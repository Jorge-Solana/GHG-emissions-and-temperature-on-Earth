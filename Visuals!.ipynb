{
 "cells": [
  {
   "cell_type": "code",
   "execution_count": 75,
   "id": "a0229df6",
   "metadata": {},
   "outputs": [],
   "source": [
    "import pandas as pd\n",
    "import numpy as np\n",
    "import seaborn as sns\n",
    "import matplotlib.pyplot as plt\n",
    "import plotly.express as px\n",
    "import plotly.graph_objects as go\n",
    "from plotly.subplots import make_subplots"
   ]
  },
  {
   "cell_type": "code",
   "execution_count": 2,
   "id": "b2a362af",
   "metadata": {},
   "outputs": [],
   "source": [
    "sns.set_context(\"poster\")\n",
    "sns.set(rc={\"figure.figsize\": (12.,6.)})\n",
    "sns.set_style(\"whitegrid\")"
   ]
  },
  {
   "cell_type": "code",
   "execution_count": 102,
   "id": "3c981c57",
   "metadata": {},
   "outputs": [],
   "source": [
    "df = pd.read_csv('ghg-emissions_clean.csv')\n",
    "df_oldtemp = pd.read_csv('old_temp.csv',index_col=0)\n",
    "df_oldprec = pd.read_csv('old_prec.csv', index_col=0)\n",
    "df_newtemp = pd.read_csv('prediction_temp.csv', index_col=0)\n",
    "df_newprec = pd.read_csv('prediction_prec.csv', index_col=0)"
   ]
  },
  {
   "cell_type": "code",
   "execution_count": 4,
   "id": "5f68fed4",
   "metadata": {},
   "outputs": [],
   "source": [
    "# acortamos el dataframe (df) para estudiar solo nuestros paises de interes (USA, Gernamy, China, UK, India y Rusia)"
   ]
  },
  {
   "cell_type": "code",
   "execution_count": 5,
   "id": "d50cb2f4",
   "metadata": {},
   "outputs": [],
   "source": [
    "df_acortado = df[(df['Country/Region']=='United States') | (df['Country/Region'] == 'Russia') | (df['Country/Region'] == 'United Kingdom') | (df['Country/Region'] == 'India') | (df['Country/Region'] == 'Germany') | (df['Country/Region'] == 'China')]"
   ]
  },
  {
   "cell_type": "code",
   "execution_count": 6,
   "id": "bd7391e5",
   "metadata": {},
   "outputs": [
    {
     "data": {
      "text/html": [
       "<div>\n",
       "<style scoped>\n",
       "    .dataframe tbody tr th:only-of-type {\n",
       "        vertical-align: middle;\n",
       "    }\n",
       "\n",
       "    .dataframe tbody tr th {\n",
       "        vertical-align: top;\n",
       "    }\n",
       "\n",
       "    .dataframe thead th {\n",
       "        text-align: right;\n",
       "    }\n",
       "</style>\n",
       "<table border=\"1\" class=\"dataframe\">\n",
       "  <thead>\n",
       "    <tr style=\"text-align: right;\">\n",
       "      <th></th>\n",
       "      <th>Unnamed: 0</th>\n",
       "      <th>Country/Region</th>\n",
       "      <th>unit</th>\n",
       "      <th>1990</th>\n",
       "      <th>1991</th>\n",
       "      <th>1992</th>\n",
       "      <th>1993</th>\n",
       "      <th>1994</th>\n",
       "      <th>1995</th>\n",
       "      <th>1996</th>\n",
       "      <th>...</th>\n",
       "      <th>2009</th>\n",
       "      <th>2010</th>\n",
       "      <th>2011</th>\n",
       "      <th>2012</th>\n",
       "      <th>2013</th>\n",
       "      <th>2014</th>\n",
       "      <th>2015</th>\n",
       "      <th>2016</th>\n",
       "      <th>2017</th>\n",
       "      <th>2018</th>\n",
       "    </tr>\n",
       "  </thead>\n",
       "  <tbody>\n",
       "    <tr>\n",
       "      <th>0</th>\n",
       "      <td>0</td>\n",
       "      <td>China</td>\n",
       "      <td>MtCO2e</td>\n",
       "      <td>2873.71</td>\n",
       "      <td>3023.38</td>\n",
       "      <td>3154.54</td>\n",
       "      <td>3377.79</td>\n",
       "      <td>3528.81</td>\n",
       "      <td>3918.30</td>\n",
       "      <td>3954.75</td>\n",
       "      <td>...</td>\n",
       "      <td>9046.19</td>\n",
       "      <td>9872.37</td>\n",
       "      <td>10364.83</td>\n",
       "      <td>10690.04</td>\n",
       "      <td>11144.76</td>\n",
       "      <td>11155.76</td>\n",
       "      <td>11149.68</td>\n",
       "      <td>11207.66</td>\n",
       "      <td>11408.26</td>\n",
       "      <td>11705.81</td>\n",
       "    </tr>\n",
       "    <tr>\n",
       "      <th>1</th>\n",
       "      <td>1</td>\n",
       "      <td>United States</td>\n",
       "      <td>MtCO2e</td>\n",
       "      <td>5543.47</td>\n",
       "      <td>5501.92</td>\n",
       "      <td>5583.80</td>\n",
       "      <td>5691.26</td>\n",
       "      <td>5782.20</td>\n",
       "      <td>5843.90</td>\n",
       "      <td>6010.62</td>\n",
       "      <td>...</td>\n",
       "      <td>5793.66</td>\n",
       "      <td>6041.59</td>\n",
       "      <td>5796.78</td>\n",
       "      <td>5550.87</td>\n",
       "      <td>5690.79</td>\n",
       "      <td>5711.15</td>\n",
       "      <td>5586.69</td>\n",
       "      <td>5676.92</td>\n",
       "      <td>5613.64</td>\n",
       "      <td>5794.35</td>\n",
       "    </tr>\n",
       "    <tr>\n",
       "      <th>2</th>\n",
       "      <td>2</td>\n",
       "      <td>India</td>\n",
       "      <td>MtCO2e</td>\n",
       "      <td>1009.44</td>\n",
       "      <td>1064.49</td>\n",
       "      <td>1096.71</td>\n",
       "      <td>1128.44</td>\n",
       "      <td>1174.78</td>\n",
       "      <td>1240.44</td>\n",
       "      <td>1289.63</td>\n",
       "      <td>...</td>\n",
       "      <td>2467.78</td>\n",
       "      <td>2576.93</td>\n",
       "      <td>2610.32</td>\n",
       "      <td>2758.53</td>\n",
       "      <td>2816.49</td>\n",
       "      <td>2988.34</td>\n",
       "      <td>3002.17</td>\n",
       "      <td>3073.24</td>\n",
       "      <td>3202.82</td>\n",
       "      <td>3346.63</td>\n",
       "    </tr>\n",
       "    <tr>\n",
       "      <th>3</th>\n",
       "      <td>3</td>\n",
       "      <td>Russia</td>\n",
       "      <td>MtCO2e</td>\n",
       "      <td>2885.12</td>\n",
       "      <td>2788.70</td>\n",
       "      <td>2551.94</td>\n",
       "      <td>2294.62</td>\n",
       "      <td>2011.47</td>\n",
       "      <td>1930.88</td>\n",
       "      <td>1889.18</td>\n",
       "      <td>...</td>\n",
       "      <td>1575.54</td>\n",
       "      <td>1690.93</td>\n",
       "      <td>1864.86</td>\n",
       "      <td>1886.41</td>\n",
       "      <td>1844.48</td>\n",
       "      <td>1841.26</td>\n",
       "      <td>1791.21</td>\n",
       "      <td>1918.26</td>\n",
       "      <td>1939.26</td>\n",
       "      <td>1992.08</td>\n",
       "    </tr>\n",
       "    <tr>\n",
       "      <th>8</th>\n",
       "      <td>8</td>\n",
       "      <td>Germany</td>\n",
       "      <td>MtCO2e</td>\n",
       "      <td>1109.28</td>\n",
       "      <td>1079.69</td>\n",
       "      <td>1032.01</td>\n",
       "      <td>1024.31</td>\n",
       "      <td>1011.41</td>\n",
       "      <td>1004.79</td>\n",
       "      <td>1032.92</td>\n",
       "      <td>...</td>\n",
       "      <td>832.31</td>\n",
       "      <td>862.97</td>\n",
       "      <td>823.34</td>\n",
       "      <td>837.46</td>\n",
       "      <td>854.70</td>\n",
       "      <td>814.43</td>\n",
       "      <td>818.22</td>\n",
       "      <td>820.70</td>\n",
       "      <td>803.18</td>\n",
       "      <td>776.61</td>\n",
       "    </tr>\n",
       "    <tr>\n",
       "      <th>17</th>\n",
       "      <td>17</td>\n",
       "      <td>United Kingdom</td>\n",
       "      <td>MtCO2e</td>\n",
       "      <td>746.40</td>\n",
       "      <td>761.64</td>\n",
       "      <td>739.51</td>\n",
       "      <td>722.61</td>\n",
       "      <td>711.75</td>\n",
       "      <td>702.55</td>\n",
       "      <td>722.68</td>\n",
       "      <td>...</td>\n",
       "      <td>570.73</td>\n",
       "      <td>583.60</td>\n",
       "      <td>540.98</td>\n",
       "      <td>562.45</td>\n",
       "      <td>543.71</td>\n",
       "      <td>502.84</td>\n",
       "      <td>486.78</td>\n",
       "      <td>464.28</td>\n",
       "      <td>450.24</td>\n",
       "      <td>441.13</td>\n",
       "    </tr>\n",
       "  </tbody>\n",
       "</table>\n",
       "<p>6 rows × 32 columns</p>\n",
       "</div>"
      ],
      "text/plain": [
       "    Unnamed: 0  Country/Region    unit     1990     1991     1992     1993  \\\n",
       "0            0           China  MtCO2e  2873.71  3023.38  3154.54  3377.79   \n",
       "1            1   United States  MtCO2e  5543.47  5501.92  5583.80  5691.26   \n",
       "2            2           India  MtCO2e  1009.44  1064.49  1096.71  1128.44   \n",
       "3            3          Russia  MtCO2e  2885.12  2788.70  2551.94  2294.62   \n",
       "8            8         Germany  MtCO2e  1109.28  1079.69  1032.01  1024.31   \n",
       "17          17  United Kingdom  MtCO2e   746.40   761.64   739.51   722.61   \n",
       "\n",
       "       1994     1995     1996  ...     2009     2010      2011      2012  \\\n",
       "0   3528.81  3918.30  3954.75  ...  9046.19  9872.37  10364.83  10690.04   \n",
       "1   5782.20  5843.90  6010.62  ...  5793.66  6041.59   5796.78   5550.87   \n",
       "2   1174.78  1240.44  1289.63  ...  2467.78  2576.93   2610.32   2758.53   \n",
       "3   2011.47  1930.88  1889.18  ...  1575.54  1690.93   1864.86   1886.41   \n",
       "8   1011.41  1004.79  1032.92  ...   832.31   862.97    823.34    837.46   \n",
       "17   711.75   702.55   722.68  ...   570.73   583.60    540.98    562.45   \n",
       "\n",
       "        2013      2014      2015      2016      2017      2018  \n",
       "0   11144.76  11155.76  11149.68  11207.66  11408.26  11705.81  \n",
       "1    5690.79   5711.15   5586.69   5676.92   5613.64   5794.35  \n",
       "2    2816.49   2988.34   3002.17   3073.24   3202.82   3346.63  \n",
       "3    1844.48   1841.26   1791.21   1918.26   1939.26   1992.08  \n",
       "8     854.70    814.43    818.22    820.70    803.18    776.61  \n",
       "17    543.71    502.84    486.78    464.28    450.24    441.13  \n",
       "\n",
       "[6 rows x 32 columns]"
      ]
     },
     "execution_count": 6,
     "metadata": {},
     "output_type": "execute_result"
    }
   ],
   "source": [
    "df_acortado"
   ]
  },
  {
   "cell_type": "code",
   "execution_count": 7,
   "id": "17182b8d",
   "metadata": {},
   "outputs": [],
   "source": [
    "# como en este dataframe no tenemos años futuros, obviamente. Vamos a quidarnos con tan solo los años que nos \n",
    "# interesan que tenemos en los dataframes de las llamadas a la API, estos son 1980 hasta 1999, ya que este \n",
    "# dataframe empieza en 1990, cogeremos desde el 1990 hasta el 1999"
   ]
  },
  {
   "cell_type": "code",
   "execution_count": 8,
   "id": "0db14460",
   "metadata": {},
   "outputs": [
    {
     "data": {
      "text/html": [
       "<div>\n",
       "<style scoped>\n",
       "    .dataframe tbody tr th:only-of-type {\n",
       "        vertical-align: middle;\n",
       "    }\n",
       "\n",
       "    .dataframe tbody tr th {\n",
       "        vertical-align: top;\n",
       "    }\n",
       "\n",
       "    .dataframe thead th {\n",
       "        text-align: right;\n",
       "    }\n",
       "</style>\n",
       "<table border=\"1\" class=\"dataframe\">\n",
       "  <thead>\n",
       "    <tr style=\"text-align: right;\">\n",
       "      <th></th>\n",
       "      <th>Country/Region</th>\n",
       "      <th>1990</th>\n",
       "      <th>1991</th>\n",
       "      <th>1992</th>\n",
       "      <th>1993</th>\n",
       "      <th>1994</th>\n",
       "      <th>1995</th>\n",
       "      <th>1996</th>\n",
       "      <th>1997</th>\n",
       "      <th>1998</th>\n",
       "      <th>1999</th>\n",
       "    </tr>\n",
       "  </thead>\n",
       "  <tbody>\n",
       "    <tr>\n",
       "      <th>0</th>\n",
       "      <td>China</td>\n",
       "      <td>2873.71</td>\n",
       "      <td>3023.38</td>\n",
       "      <td>3154.54</td>\n",
       "      <td>3377.79</td>\n",
       "      <td>3528.81</td>\n",
       "      <td>3918.30</td>\n",
       "      <td>3954.75</td>\n",
       "      <td>3963.61</td>\n",
       "      <td>4103.23</td>\n",
       "      <td>4053.37</td>\n",
       "    </tr>\n",
       "    <tr>\n",
       "      <th>1</th>\n",
       "      <td>United States</td>\n",
       "      <td>5543.47</td>\n",
       "      <td>5501.92</td>\n",
       "      <td>5583.80</td>\n",
       "      <td>5691.26</td>\n",
       "      <td>5782.20</td>\n",
       "      <td>5843.90</td>\n",
       "      <td>6010.62</td>\n",
       "      <td>6258.47</td>\n",
       "      <td>6293.80</td>\n",
       "      <td>6291.25</td>\n",
       "    </tr>\n",
       "    <tr>\n",
       "      <th>2</th>\n",
       "      <td>India</td>\n",
       "      <td>1009.44</td>\n",
       "      <td>1064.49</td>\n",
       "      <td>1096.71</td>\n",
       "      <td>1128.44</td>\n",
       "      <td>1174.78</td>\n",
       "      <td>1240.44</td>\n",
       "      <td>1289.63</td>\n",
       "      <td>1348.09</td>\n",
       "      <td>1382.26</td>\n",
       "      <td>1460.24</td>\n",
       "    </tr>\n",
       "    <tr>\n",
       "      <th>3</th>\n",
       "      <td>Russia</td>\n",
       "      <td>2885.12</td>\n",
       "      <td>2788.70</td>\n",
       "      <td>2551.94</td>\n",
       "      <td>2294.62</td>\n",
       "      <td>2011.47</td>\n",
       "      <td>1930.88</td>\n",
       "      <td>1889.18</td>\n",
       "      <td>1755.59</td>\n",
       "      <td>1740.23</td>\n",
       "      <td>1772.68</td>\n",
       "    </tr>\n",
       "    <tr>\n",
       "      <th>8</th>\n",
       "      <td>Germany</td>\n",
       "      <td>1109.28</td>\n",
       "      <td>1079.69</td>\n",
       "      <td>1032.01</td>\n",
       "      <td>1024.31</td>\n",
       "      <td>1011.41</td>\n",
       "      <td>1004.79</td>\n",
       "      <td>1032.92</td>\n",
       "      <td>994.92</td>\n",
       "      <td>968.60</td>\n",
       "      <td>934.16</td>\n",
       "    </tr>\n",
       "    <tr>\n",
       "      <th>17</th>\n",
       "      <td>United Kingdom</td>\n",
       "      <td>746.40</td>\n",
       "      <td>761.64</td>\n",
       "      <td>739.51</td>\n",
       "      <td>722.61</td>\n",
       "      <td>711.75</td>\n",
       "      <td>702.55</td>\n",
       "      <td>722.68</td>\n",
       "      <td>701.07</td>\n",
       "      <td>697.42</td>\n",
       "      <td>671.25</td>\n",
       "    </tr>\n",
       "  </tbody>\n",
       "</table>\n",
       "</div>"
      ],
      "text/plain": [
       "    Country/Region     1990     1991     1992     1993     1994     1995  \\\n",
       "0            China  2873.71  3023.38  3154.54  3377.79  3528.81  3918.30   \n",
       "1    United States  5543.47  5501.92  5583.80  5691.26  5782.20  5843.90   \n",
       "2            India  1009.44  1064.49  1096.71  1128.44  1174.78  1240.44   \n",
       "3           Russia  2885.12  2788.70  2551.94  2294.62  2011.47  1930.88   \n",
       "8          Germany  1109.28  1079.69  1032.01  1024.31  1011.41  1004.79   \n",
       "17  United Kingdom   746.40   761.64   739.51   722.61   711.75   702.55   \n",
       "\n",
       "       1996     1997     1998     1999  \n",
       "0   3954.75  3963.61  4103.23  4053.37  \n",
       "1   6010.62  6258.47  6293.80  6291.25  \n",
       "2   1289.63  1348.09  1382.26  1460.24  \n",
       "3   1889.18  1755.59  1740.23  1772.68  \n",
       "8   1032.92   994.92   968.60   934.16  \n",
       "17   722.68   701.07   697.42   671.25  "
      ]
     },
     "execution_count": 8,
     "metadata": {},
     "output_type": "execute_result"
    }
   ],
   "source": [
    "columnas_interesantes = ['Country/Region', '1990', '1991', '1992', '1993', '1994', '1995', '1996', '1997', '1998', '1999']\n",
    "years = ['1990', '1991', '1992', '1993', '1994', '1995', '1996', '1997', '1998', '1999']\n",
    "df_acortado_date = df_acortado[columnas_interesantes]\n",
    "df_acortado_date"
   ]
  },
  {
   "cell_type": "code",
   "execution_count": 50,
   "id": "651a63fb",
   "metadata": {},
   "outputs": [
    {
     "data": {
      "text/html": [
       "<div>\n",
       "<style scoped>\n",
       "    .dataframe tbody tr th:only-of-type {\n",
       "        vertical-align: middle;\n",
       "    }\n",
       "\n",
       "    .dataframe tbody tr th {\n",
       "        vertical-align: top;\n",
       "    }\n",
       "\n",
       "    .dataframe thead th {\n",
       "        text-align: right;\n",
       "    }\n",
       "</style>\n",
       "<table border=\"1\" class=\"dataframe\">\n",
       "  <thead>\n",
       "    <tr style=\"text-align: right;\">\n",
       "      <th></th>\n",
       "      <th>Year</th>\n",
       "      <th>China</th>\n",
       "      <th>United States</th>\n",
       "      <th>India</th>\n",
       "      <th>Russia</th>\n",
       "      <th>Germany</th>\n",
       "      <th>United Kingdom</th>\n",
       "    </tr>\n",
       "  </thead>\n",
       "  <tbody>\n",
       "    <tr>\n",
       "      <th>1</th>\n",
       "      <td>1990</td>\n",
       "      <td>2873.71</td>\n",
       "      <td>5543.47</td>\n",
       "      <td>1009.44</td>\n",
       "      <td>2885.12</td>\n",
       "      <td>1109.28</td>\n",
       "      <td>746.40</td>\n",
       "    </tr>\n",
       "    <tr>\n",
       "      <th>2</th>\n",
       "      <td>1991</td>\n",
       "      <td>3023.38</td>\n",
       "      <td>5501.92</td>\n",
       "      <td>1064.49</td>\n",
       "      <td>2788.7</td>\n",
       "      <td>1079.69</td>\n",
       "      <td>761.64</td>\n",
       "    </tr>\n",
       "    <tr>\n",
       "      <th>3</th>\n",
       "      <td>1992</td>\n",
       "      <td>3154.54</td>\n",
       "      <td>5583.8</td>\n",
       "      <td>1096.71</td>\n",
       "      <td>2551.94</td>\n",
       "      <td>1032.01</td>\n",
       "      <td>739.51</td>\n",
       "    </tr>\n",
       "    <tr>\n",
       "      <th>4</th>\n",
       "      <td>1993</td>\n",
       "      <td>3377.79</td>\n",
       "      <td>5691.26</td>\n",
       "      <td>1128.44</td>\n",
       "      <td>2294.62</td>\n",
       "      <td>1024.31</td>\n",
       "      <td>722.61</td>\n",
       "    </tr>\n",
       "    <tr>\n",
       "      <th>5</th>\n",
       "      <td>1994</td>\n",
       "      <td>3528.81</td>\n",
       "      <td>5782.2</td>\n",
       "      <td>1174.78</td>\n",
       "      <td>2011.47</td>\n",
       "      <td>1011.41</td>\n",
       "      <td>711.75</td>\n",
       "    </tr>\n",
       "  </tbody>\n",
       "</table>\n",
       "</div>"
      ],
      "text/plain": [
       "0  Year    China United States    India   Russia  Germany United Kingdom\n",
       "1  1990  2873.71       5543.47  1009.44  2885.12  1109.28         746.40\n",
       "2  1991  3023.38       5501.92  1064.49   2788.7  1079.69         761.64\n",
       "3  1992  3154.54        5583.8  1096.71  2551.94  1032.01         739.51\n",
       "4  1993  3377.79       5691.26  1128.44  2294.62  1024.31         722.61\n",
       "5  1994  3528.81        5782.2  1174.78  2011.47  1011.41         711.75"
      ]
     },
     "execution_count": 50,
     "metadata": {},
     "output_type": "execute_result"
    }
   ],
   "source": [
    "hola = df_acortado_date.T.reset_index()\n",
    "hola.columns = hola.iloc[0]\n",
    "hola.rename(columns={\"Country/Region\":\"Year\"}, inplace=True)\n",
    "hola.drop(0,axis=0, inplace = True)\n",
    "hola.head()"
   ]
  },
  {
   "cell_type": "code",
   "execution_count": 64,
   "id": "b545781e",
   "metadata": {},
   "outputs": [
    {
     "data": {
      "text/plain": [
       "'\\ndiccio = []\\nfor i,row in df_acortado_date.iterrows():\\n    for el in years:\\n        diccio.append({\"country\": f\"{row[\\'Country/Region\\']}\", \"year\": f\"{el}\", \"data\":f\"{row[el]}\"})\\n'"
      ]
     },
     "execution_count": 64,
     "metadata": {},
     "output_type": "execute_result"
    }
   ],
   "source": [
    "'''\n",
    "diccio = []\n",
    "for i,row in df_acortado_date.iterrows():\n",
    "    for el in years:\n",
    "        diccio.append({\"country\": f\"{row['Country/Region']}\", \"year\": f\"{el}\", \"data\":f\"{row[el]}\"})\n",
    "'''\n",
    "# que codigo tan guapo, pero al final no lo usamos... una pena"
   ]
  },
  {
   "cell_type": "code",
   "execution_count": 31,
   "id": "93ff50d8",
   "metadata": {},
   "outputs": [],
   "source": [
    "# convertimos los valores de cada año en float, ya que eran object"
   ]
  },
  {
   "cell_type": "code",
   "execution_count": 80,
   "id": "0617a88a",
   "metadata": {},
   "outputs": [],
   "source": [
    "hola = hola.apply(pd.to_numeric)"
   ]
  },
  {
   "cell_type": "markdown",
   "id": "2f516e7c",
   "metadata": {},
   "source": [
    "### VISUALES"
   ]
  },
  {
   "cell_type": "code",
   "execution_count": 99,
   "id": "621dccc6",
   "metadata": {
    "scrolled": false
   },
   "outputs": [
    {
     "data": {
      "image/png": "[encoded data removed]",
      "text/plain": [
       "<Figure size 1440x504 with 1 Axes>"
      ]
     },
     "metadata": {},
     "output_type": "display_data"
    }
   ],
   "source": [
    "fig1 = hola.plot(x='Year', y= ['China', 'United States', 'India', 'Russia', 'Germany', 'United Kingdom'], \n",
    "                 figsize=(20,7), linewidth= 0.8, marker= '.')"
   ]
  },
  {
   "cell_type": "markdown",
   "id": "a95fe479",
   "metadata": {},
   "source": [
    "## STORYTELING"
   ]
  },
  {
   "cell_type": "markdown",
   "id": "3332c65c",
   "metadata": {},
   "source": [
    "### ¿Qué podemos leer en este gráfico?"
   ]
  },
  {
   "cell_type": "markdown",
   "id": "114de6f8",
   "metadata": {},
   "source": [
    "Este gráfico nos muestra la evolución de la emisión de gases de efecto invernadero a lo largo de un intervalo de años, desde el 1990 hasta el 1999, de los países de neustro estudio (EEUU, China, India, Rusia, Alemania, Reino Unido).\n",
    "Como se puede observar, la tendencia es a la alza de forma general. Alemania, Reino Unido e India parten de una base bastante inferior al resto y su tendencia es menos notoria que en el resto de países.\n",
    "China, por otro lado desde el 1990 tiende a crecer en cuanto a la cantidad de gases emitidos, pero se puede ver un aumento en estas emisiones en el 1995. Algo similar ocurre con EEUU, donde la tendencia siempre es a la alza y tiene una subida en el 1997. En el caso de EEUU, la emisión comienza en un nivel bastante superior, mas de 2000 ppm por año.\n",
    "El caso de Rusia es digno de mención... ¿es el único país que tiene una tendencia a la baja?... huele a chamusquina."
   ]
  },
  {
   "cell_type": "markdown",
   "id": "2cfa088a",
   "metadata": {},
   "source": [
    "### Consideración con los datos de la API"
   ]
  },
  {
   "cell_type": "markdown",
   "id": "a9361214",
   "metadata": {},
   "source": [
    "Los datos interválicos de la API se dan cada 19 años, esto quiere decir que los datos pasados solo pueden ser, por ejemplo, desde 1980 hasta 1999 y los datos predictivos a futuro, desde el 2020 hasta el 2039. No podemos elegir un intervalos menor o mayor, ni para los datos pasados ni para los predictivos."
   ]
  },
  {
   "cell_type": "markdown",
   "id": "81ad11aa",
   "metadata": {},
   "source": [
    "##### Pasamos a trabajar con la API, para comprar los valores con nuestros datos del dataset."
   ]
  },
  {
   "cell_type": "markdown",
   "id": "f5d316e1",
   "metadata": {},
   "source": [
    "A continuación vemos los gráficos extraídos de la limpieza, ya que para la visualización individual de cada gráfico no nos aporta mucho (lo que nos interesa es la comparativa), se juntarán los gráficos que muesrtan los datos de años pasados junto a los datos de las predicciones de los años venideros."
   ]
  },
  {
   "cell_type": "code",
   "execution_count": 101,
   "id": "5734f52b",
   "metadata": {},
   "outputs": [
    {
     "data": {
      "text/html": [
       "<div>\n",
       "<style scoped>\n",
       "    .dataframe tbody tr th:only-of-type {\n",
       "        vertical-align: middle;\n",
       "    }\n",
       "\n",
       "    .dataframe tbody tr th {\n",
       "        vertical-align: top;\n",
       "    }\n",
       "\n",
       "    .dataframe thead th {\n",
       "        text-align: right;\n",
       "    }\n",
       "</style>\n",
       "<table border=\"1\" class=\"dataframe\">\n",
       "  <thead>\n",
       "    <tr style=\"text-align: right;\">\n",
       "      <th></th>\n",
       "      <th>Annual_Data</th>\n",
       "      <th>Country</th>\n",
       "    </tr>\n",
       "  </thead>\n",
       "  <tbody>\n",
       "    <tr>\n",
       "      <th>0</th>\n",
       "      <td>6.344341</td>\n",
       "      <td>USA</td>\n",
       "    </tr>\n",
       "    <tr>\n",
       "      <th>1</th>\n",
       "      <td>7.677910</td>\n",
       "      <td>Germany</td>\n",
       "    </tr>\n",
       "    <tr>\n",
       "      <th>2</th>\n",
       "      <td>4.626097</td>\n",
       "      <td>China</td>\n",
       "    </tr>\n",
       "    <tr>\n",
       "      <th>3</th>\n",
       "      <td>9.121408</td>\n",
       "      <td>UK</td>\n",
       "    </tr>\n",
       "    <tr>\n",
       "      <th>4</th>\n",
       "      <td>21.990156</td>\n",
       "      <td>India</td>\n",
       "    </tr>\n",
       "    <tr>\n",
       "      <th>5</th>\n",
       "      <td>-7.352788</td>\n",
       "      <td>Rusia</td>\n",
       "    </tr>\n",
       "  </tbody>\n",
       "</table>\n",
       "</div>"
      ],
      "text/plain": [
       "   Annual_Data  Country\n",
       "0     6.344341      USA\n",
       "1     7.677910  Germany\n",
       "2     4.626097    China\n",
       "3     9.121408       UK\n",
       "4    21.990156    India\n",
       "5    -7.352788    Rusia"
      ]
     },
     "execution_count": 101,
     "metadata": {},
     "output_type": "execute_result"
    }
   ],
   "source": [
    "df_oldtemp"
   ]
  },
  {
   "cell_type": "code",
   "execution_count": 103,
   "id": "5240818d",
   "metadata": {},
   "outputs": [
    {
     "data": {
      "text/html": [
       "<div>\n",
       "<style scoped>\n",
       "    .dataframe tbody tr th:only-of-type {\n",
       "        vertical-align: middle;\n",
       "    }\n",
       "\n",
       "    .dataframe tbody tr th {\n",
       "        vertical-align: top;\n",
       "    }\n",
       "\n",
       "    .dataframe thead th {\n",
       "        text-align: right;\n",
       "    }\n",
       "</style>\n",
       "<table border=\"1\" class=\"dataframe\">\n",
       "  <thead>\n",
       "    <tr style=\"text-align: right;\">\n",
       "      <th></th>\n",
       "      <th>Annual_Data</th>\n",
       "      <th>Country</th>\n",
       "    </tr>\n",
       "  </thead>\n",
       "  <tbody>\n",
       "    <tr>\n",
       "      <th>0</th>\n",
       "      <td>841.912621</td>\n",
       "      <td>USA</td>\n",
       "    </tr>\n",
       "    <tr>\n",
       "      <th>1</th>\n",
       "      <td>929.598637</td>\n",
       "      <td>Germany</td>\n",
       "    </tr>\n",
       "    <tr>\n",
       "      <th>2</th>\n",
       "      <td>808.955153</td>\n",
       "      <td>China</td>\n",
       "    </tr>\n",
       "    <tr>\n",
       "      <th>3</th>\n",
       "      <td>988.845497</td>\n",
       "      <td>UK</td>\n",
       "    </tr>\n",
       "    <tr>\n",
       "      <th>4</th>\n",
       "      <td>1018.582287</td>\n",
       "      <td>India</td>\n",
       "    </tr>\n",
       "    <tr>\n",
       "      <th>5</th>\n",
       "      <td>497.024078</td>\n",
       "      <td>Rusia</td>\n",
       "    </tr>\n",
       "  </tbody>\n",
       "</table>\n",
       "</div>"
      ],
      "text/plain": [
       "   Annual_Data  Country\n",
       "0   841.912621      USA\n",
       "1   929.598637  Germany\n",
       "2   808.955153    China\n",
       "3   988.845497       UK\n",
       "4  1018.582287    India\n",
       "5   497.024078    Rusia"
      ]
     },
     "execution_count": 103,
     "metadata": {},
     "output_type": "execute_result"
    }
   ],
   "source": [
    "df_oldprec"
   ]
  },
  {
   "cell_type": "code",
   "execution_count": 104,
   "id": "7528124d",
   "metadata": {},
   "outputs": [
    {
     "data": {
      "text/html": [
       "<div>\n",
       "<style scoped>\n",
       "    .dataframe tbody tr th:only-of-type {\n",
       "        vertical-align: middle;\n",
       "    }\n",
       "\n",
       "    .dataframe tbody tr th {\n",
       "        vertical-align: top;\n",
       "    }\n",
       "\n",
       "    .dataframe thead th {\n",
       "        text-align: right;\n",
       "    }\n",
       "</style>\n",
       "<table border=\"1\" class=\"dataframe\">\n",
       "  <thead>\n",
       "    <tr style=\"text-align: right;\">\n",
       "      <th></th>\n",
       "      <th>Annual_Data</th>\n",
       "      <th>Country</th>\n",
       "    </tr>\n",
       "  </thead>\n",
       "  <tbody>\n",
       "    <tr>\n",
       "      <th>0</th>\n",
       "      <td>7.483289</td>\n",
       "      <td>USA</td>\n",
       "    </tr>\n",
       "    <tr>\n",
       "      <th>1</th>\n",
       "      <td>8.535085</td>\n",
       "      <td>Germany</td>\n",
       "    </tr>\n",
       "    <tr>\n",
       "      <th>2</th>\n",
       "      <td>5.728654</td>\n",
       "      <td>China</td>\n",
       "    </tr>\n",
       "    <tr>\n",
       "      <th>3</th>\n",
       "      <td>9.668244</td>\n",
       "      <td>UK</td>\n",
       "    </tr>\n",
       "    <tr>\n",
       "      <th>4</th>\n",
       "      <td>22.846838</td>\n",
       "      <td>India</td>\n",
       "    </tr>\n",
       "    <tr>\n",
       "      <th>5</th>\n",
       "      <td>-5.949377</td>\n",
       "      <td>Rusia</td>\n",
       "    </tr>\n",
       "  </tbody>\n",
       "</table>\n",
       "</div>"
      ],
      "text/plain": [
       "   Annual_Data  Country\n",
       "0     7.483289      USA\n",
       "1     8.535085  Germany\n",
       "2     5.728654    China\n",
       "3     9.668244       UK\n",
       "4    22.846838    India\n",
       "5    -5.949377    Rusia"
      ]
     },
     "execution_count": 104,
     "metadata": {},
     "output_type": "execute_result"
    }
   ],
   "source": [
    "df_newtemp"
   ]
  },
  {
   "cell_type": "code",
   "execution_count": 105,
   "id": "66fc3da6",
   "metadata": {},
   "outputs": [
    {
     "data": {
      "text/html": [
       "<div>\n",
       "<style scoped>\n",
       "    .dataframe tbody tr th:only-of-type {\n",
       "        vertical-align: middle;\n",
       "    }\n",
       "\n",
       "    .dataframe tbody tr th {\n",
       "        vertical-align: top;\n",
       "    }\n",
       "\n",
       "    .dataframe thead th {\n",
       "        text-align: right;\n",
       "    }\n",
       "</style>\n",
       "<table border=\"1\" class=\"dataframe\">\n",
       "  <thead>\n",
       "    <tr style=\"text-align: right;\">\n",
       "      <th></th>\n",
       "      <th>Annual_Data</th>\n",
       "      <th>Country</th>\n",
       "    </tr>\n",
       "  </thead>\n",
       "  <tbody>\n",
       "    <tr>\n",
       "      <th>0</th>\n",
       "      <td>859.000935</td>\n",
       "      <td>USA</td>\n",
       "    </tr>\n",
       "    <tr>\n",
       "      <th>1</th>\n",
       "      <td>949.684790</td>\n",
       "      <td>Germany</td>\n",
       "    </tr>\n",
       "    <tr>\n",
       "      <th>2</th>\n",
       "      <td>817.829902</td>\n",
       "      <td>China</td>\n",
       "    </tr>\n",
       "    <tr>\n",
       "      <th>3</th>\n",
       "      <td>1005.959857</td>\n",
       "      <td>UK</td>\n",
       "    </tr>\n",
       "    <tr>\n",
       "      <th>4</th>\n",
       "      <td>1018.861217</td>\n",
       "      <td>India</td>\n",
       "    </tr>\n",
       "    <tr>\n",
       "      <th>5</th>\n",
       "      <td>520.475287</td>\n",
       "      <td>Rusia</td>\n",
       "    </tr>\n",
       "  </tbody>\n",
       "</table>\n",
       "</div>"
      ],
      "text/plain": [
       "   Annual_Data  Country\n",
       "0   859.000935      USA\n",
       "1   949.684790  Germany\n",
       "2   817.829902    China\n",
       "3  1005.959857       UK\n",
       "4  1018.861217    India\n",
       "5   520.475287    Rusia"
      ]
     },
     "execution_count": 105,
     "metadata": {},
     "output_type": "execute_result"
    }
   ],
   "source": [
    "df_newprec"
   ]
  },
  {
   "cell_type": "markdown",
   "id": "ea76fd56",
   "metadata": {},
   "source": [
    "Aquí agrupamos los datos mencionados antes"
   ]
  },
  {
   "cell_type": "code",
   "execution_count": 106,
   "id": "6f8f9e6d",
   "metadata": {},
   "outputs": [],
   "source": [
    "df_oldtemp['Pred_Data'] = df_newtemp['Annual_Data']"
   ]
  },
  {
   "cell_type": "code",
   "execution_count": 107,
   "id": "cf13a0bc",
   "metadata": {},
   "outputs": [
    {
     "data": {
      "text/html": [
       "<div>\n",
       "<style scoped>\n",
       "    .dataframe tbody tr th:only-of-type {\n",
       "        vertical-align: middle;\n",
       "    }\n",
       "\n",
       "    .dataframe tbody tr th {\n",
       "        vertical-align: top;\n",
       "    }\n",
       "\n",
       "    .dataframe thead th {\n",
       "        text-align: right;\n",
       "    }\n",
       "</style>\n",
       "<table border=\"1\" class=\"dataframe\">\n",
       "  <thead>\n",
       "    <tr style=\"text-align: right;\">\n",
       "      <th></th>\n",
       "      <th>Annual_Data</th>\n",
       "      <th>Country</th>\n",
       "      <th>Pred_Data</th>\n",
       "    </tr>\n",
       "  </thead>\n",
       "  <tbody>\n",
       "    <tr>\n",
       "      <th>0</th>\n",
       "      <td>6.344341</td>\n",
       "      <td>USA</td>\n",
       "      <td>7.483289</td>\n",
       "    </tr>\n",
       "    <tr>\n",
       "      <th>1</th>\n",
       "      <td>7.677910</td>\n",
       "      <td>Germany</td>\n",
       "      <td>8.535085</td>\n",
       "    </tr>\n",
       "    <tr>\n",
       "      <th>2</th>\n",
       "      <td>4.626097</td>\n",
       "      <td>China</td>\n",
       "      <td>5.728654</td>\n",
       "    </tr>\n",
       "    <tr>\n",
       "      <th>3</th>\n",
       "      <td>9.121408</td>\n",
       "      <td>UK</td>\n",
       "      <td>9.668244</td>\n",
       "    </tr>\n",
       "    <tr>\n",
       "      <th>4</th>\n",
       "      <td>21.990156</td>\n",
       "      <td>India</td>\n",
       "      <td>22.846838</td>\n",
       "    </tr>\n",
       "    <tr>\n",
       "      <th>5</th>\n",
       "      <td>-7.352788</td>\n",
       "      <td>Rusia</td>\n",
       "      <td>-5.949377</td>\n",
       "    </tr>\n",
       "  </tbody>\n",
       "</table>\n",
       "</div>"
      ],
      "text/plain": [
       "   Annual_Data  Country  Pred_Data\n",
       "0     6.344341      USA   7.483289\n",
       "1     7.677910  Germany   8.535085\n",
       "2     4.626097    China   5.728654\n",
       "3     9.121408       UK   9.668244\n",
       "4    21.990156    India  22.846838\n",
       "5    -7.352788    Rusia  -5.949377"
      ]
     },
     "execution_count": 107,
     "metadata": {},
     "output_type": "execute_result"
    }
   ],
   "source": [
    "df_oldtemp"
   ]
  },
  {
   "cell_type": "code",
   "execution_count": 108,
   "id": "f0b921bb",
   "metadata": {},
   "outputs": [],
   "source": [
    "df_oldprec['Pred_Data'] = df_newprec['Annual_Data']"
   ]
  },
  {
   "cell_type": "code",
   "execution_count": 109,
   "id": "a3d4e61b",
   "metadata": {},
   "outputs": [
    {
     "data": {
      "text/html": [
       "<div>\n",
       "<style scoped>\n",
       "    .dataframe tbody tr th:only-of-type {\n",
       "        vertical-align: middle;\n",
       "    }\n",
       "\n",
       "    .dataframe tbody tr th {\n",
       "        vertical-align: top;\n",
       "    }\n",
       "\n",
       "    .dataframe thead th {\n",
       "        text-align: right;\n",
       "    }\n",
       "</style>\n",
       "<table border=\"1\" class=\"dataframe\">\n",
       "  <thead>\n",
       "    <tr style=\"text-align: right;\">\n",
       "      <th></th>\n",
       "      <th>Annual_Data</th>\n",
       "      <th>Country</th>\n",
       "      <th>Pred_Data</th>\n",
       "    </tr>\n",
       "  </thead>\n",
       "  <tbody>\n",
       "    <tr>\n",
       "      <th>0</th>\n",
       "      <td>841.912621</td>\n",
       "      <td>USA</td>\n",
       "      <td>859.000935</td>\n",
       "    </tr>\n",
       "    <tr>\n",
       "      <th>1</th>\n",
       "      <td>929.598637</td>\n",
       "      <td>Germany</td>\n",
       "      <td>949.684790</td>\n",
       "    </tr>\n",
       "    <tr>\n",
       "      <th>2</th>\n",
       "      <td>808.955153</td>\n",
       "      <td>China</td>\n",
       "      <td>817.829902</td>\n",
       "    </tr>\n",
       "    <tr>\n",
       "      <th>3</th>\n",
       "      <td>988.845497</td>\n",
       "      <td>UK</td>\n",
       "      <td>1005.959857</td>\n",
       "    </tr>\n",
       "    <tr>\n",
       "      <th>4</th>\n",
       "      <td>1018.582287</td>\n",
       "      <td>India</td>\n",
       "      <td>1018.861217</td>\n",
       "    </tr>\n",
       "    <tr>\n",
       "      <th>5</th>\n",
       "      <td>497.024078</td>\n",
       "      <td>Rusia</td>\n",
       "      <td>520.475287</td>\n",
       "    </tr>\n",
       "  </tbody>\n",
       "</table>\n",
       "</div>"
      ],
      "text/plain": [
       "   Annual_Data  Country    Pred_Data\n",
       "0   841.912621      USA   859.000935\n",
       "1   929.598637  Germany   949.684790\n",
       "2   808.955153    China   817.829902\n",
       "3   988.845497       UK  1005.959857\n",
       "4  1018.582287    India  1018.861217\n",
       "5   497.024078    Rusia   520.475287"
      ]
     },
     "execution_count": 109,
     "metadata": {},
     "output_type": "execute_result"
    }
   ],
   "source": [
    "df_oldprec"
   ]
  },
  {
   "cell_type": "code",
   "execution_count": 111,
   "id": "c42c238d",
   "metadata": {},
   "outputs": [
    {
     "data": {
      "application/vnd.plotly.v1+json": {
       "config": {
        "plotlyServerURL": "https://plot.ly"
       },
       "data": [
        {
         "name": "Old_Data",
         "type": "bar",
         "x": [
          "USA",
          "Germany",
          "China",
          "UK",
          "India",
          "Rusia"
         ],
         "xaxis": "x",
         "y": [
          6.344340785305021,
          7.677910461425466,
          4.626096996508625,
          9.121407796223869,
          21.990156037548797,
          -7.352788423181094
         ],
         "yaxis": "y"
        },
        {
         "name": "Prediction_Data",
         "type": "bar",
         "x": [
          "USA",
          "Germany",
          "China",
          "UK",
          "India",
          "Rusia"
         ],
         "xaxis": "x",
         "y": [
          7.4832890765036115,
          8.535084751675322,
          5.728653707002698,
          9.6682444545195,
          22.846837821411604,
          -5.9493774143289
         ],
         "yaxis": "y"
        },
        {
         "name": "Old_Data",
         "type": "scatter",
         "x": [
          "USA",
          "Germany",
          "China",
          "UK",
          "India",
          "Rusia"
         ],
         "xaxis": "x2",
         "y": [
          6.344340785305021,
          7.677910461425466,
          4.626096996508625,
          9.121407796223869,
          21.990156037548797,
          -7.352788423181094
         ],
         "yaxis": "y2"
        },
        {
         "name": "Prediction_Data",
         "type": "scatter",
         "x": [
          "USA",
          "Germany",
          "China",
          "UK",
          "India",
          "Rusia"
         ],
         "xaxis": "x2",
         "y": [
          7.4832890765036115,
          8.535084751675322,
          5.728653707002698,
          9.6682444545195,
          22.846837821411604,
          -5.9493774143289
         ],
         "yaxis": "y2"
        },
        {
         "name": "Old_Data",
         "type": "bar",
         "x": [
          "USA",
          "Germany",
          "China",
          "UK",
          "India",
          "Rusia"
         ],
         "xaxis": "x3",
         "y": [
          841.9126208374352,
          929.59863749187,
          808.9551530067372,
          988.8454972331014,
          1018.5822874768348,
          497.0240783346306
         ],
         "yaxis": "y3"
        },
        {
         "name": "Prediction_Data",
         "type": "bar",
         "x": [
          "USA",
          "Germany",
          "China",
          "UK",
          "India",
          "Rusia"
         ],
         "xaxis": "x3",
         "y": [
          859.0009354875868,
          949.684789712075,
          817.8299024484577,
          1005.9598574392044,
          1018.861216958656,
          520.4752874712846
         ],
         "yaxis": "y3"
        },
        {
         "name": "Old_Data",
         "type": "scatter",
         "x": [
          "USA",
          "Germany",
          "China",
          "UK",
          "India",
          "Rusia"
         ],
         "xaxis": "x4",
         "y": [
          841.9126208374352,
          929.59863749187,
          808.9551530067372,
          988.8454972331014,
          1018.5822874768348,
          497.0240783346306
         ],
         "yaxis": "y4"
        },
        {
         "name": "Prediction_Data",
         "type": "scatter",
         "x": [
          "USA",
          "Germany",
          "China",
          "UK",
          "India",
          "Rusia"
         ],
         "xaxis": "x4",
         "y": [
          859.0009354875868,
          949.684789712075,
          817.8299024484577,
          1005.9598574392044,
          1018.861216958656,
          520.4752874712846
         ],
         "yaxis": "y4"
        }
       ],
       "layout": {
        "annotations": [
         {
          "font": {
           "size": 16
          },
          "showarrow": false,
          "text": "Old temperature vs Prediction temperature",
          "x": 0.225,
          "xanchor": "center",
          "xref": "paper",
          "y": 1,
          "yanchor": "bottom",
          "yref": "paper"
         },
         {
          "font": {
           "size": 16
          },
          "showarrow": false,
          "text": "Old temperature vs Prediction temperature",
          "x": 0.775,
          "xanchor": "center",
          "xref": "paper",
          "y": 1,
          "yanchor": "bottom",
          "yref": "paper"
         },
         {
          "font": {
           "size": 16
          },
          "showarrow": false,
          "text": "Old precipitation vs Prediction precipitation",
          "x": 0.225,
          "xanchor": "center",
          "xref": "paper",
          "y": 0.375,
          "yanchor": "bottom",
          "yref": "paper"
         },
         {
          "font": {
           "size": 16
          },
          "showarrow": false,
          "text": "Old precipittion vs Prediction precipitation",
          "x": 0.775,
          "xanchor": "center",
          "xref": "paper",
          "y": 0.375,
          "yanchor": "bottom",
          "yref": "paper"
         }
        ],
        "height": 1000,
        "template": {
         "data": {
          "bar": [
           {
            "error_x": {
             "color": "#2a3f5f"
            },
            "error_y": {
             "color": "#2a3f5f"
            },
            "marker": {
             "line": {
              "color": "#E5ECF6",
              "width": 0.5
             },
             "pattern": {
              "fillmode": "overlay",
              "size": 10,
              "solidity": 0.2
             }
            },
            "type": "bar"
           }
          ],
          "barpolar": [
           {
            "marker": {
             "line": {
              "color": "#E5ECF6",
              "width": 0.5
             },
             "pattern": {
              "fillmode": "overlay",
              "size": 10,
              "solidity": 0.2
             }
            },
            "type": "barpolar"
           }
          ],
          "carpet": [
           {
            "aaxis": {
             "endlinecolor": "#2a3f5f",
             "gridcolor": "white",
             "linecolor": "white",
             "minorgridcolor": "white",
             "startlinecolor": "#2a3f5f"
            },
            "baxis": {
             "endlinecolor": "#2a3f5f",
             "gridcolor": "white",
             "linecolor": "white",
             "minorgridcolor": "white",
             "startlinecolor": "#2a3f5f"
            },
            "type": "carpet"
           }
          ],
          "choropleth": [
           {
            "colorbar": {
             "outlinewidth": 0,
             "ticks": ""
            },
            "type": "choropleth"
           }
          ],
          "contour": [
           {
            "colorbar": {
             "outlinewidth": 0,
             "ticks": ""
            },
            "colorscale": [
             [
              0,
              "#0d0887"
             ],
             [
              0.1111111111111111,
              "#46039f"
             ],
             [
              0.2222222222222222,
              "#7201a8"
             ],
             [
              0.3333333333333333,
              "#9c179e"
             ],
             [
              0.4444444444444444,
              "#bd3786"
             ],
             [
              0.5555555555555556,
              "#d8576b"
             ],
             [
              0.6666666666666666,
              "#ed7953"
             ],
             [
              0.7777777777777778,
              "#fb9f3a"
             ],
             [
              0.8888888888888888,
              "#fdca26"
             ],
             [
              1,
              "#f0f921"
             ]
            ],
            "type": "contour"
           }
          ],
          "contourcarpet": [
           {
            "colorbar": {
             "outlinewidth": 0,
             "ticks": ""
            },
            "type": "contourcarpet"
           }
          ],
          "heatmap": [
           {
            "colorbar": {
             "outlinewidth": 0,
             "ticks": ""
            },
            "colorscale": [
             [
              0,
              "#0d0887"
             ],
             [
              0.1111111111111111,
              "#46039f"
             ],
             [
              0.2222222222222222,
              "#7201a8"
             ],
             [
              0.3333333333333333,
              "#9c179e"
             ],
             [
              0.4444444444444444,
              "#bd3786"
             ],
             [
              0.5555555555555556,
              "#d8576b"
             ],
             [
              0.6666666666666666,
              "#ed7953"
             ],
             [
              0.7777777777777778,
              "#fb9f3a"
             ],
             [
              0.8888888888888888,
              "#fdca26"
             ],
             [
              1,
              "#f0f921"
             ]
            ],
            "type": "heatmap"
           }
          ],
          "heatmapgl": [
           {
            "colorbar": {
             "outlinewidth": 0,
             "ticks": ""
            },
            "colorscale": [
             [
              0,
              "#0d0887"
             ],
             [
              0.1111111111111111,
              "#46039f"
             ],
             [
              0.2222222222222222,
              "#7201a8"
             ],
             [
              0.3333333333333333,
              "#9c179e"
             ],
             [
              0.4444444444444444,
              "#bd3786"
             ],
             [
              0.5555555555555556,
              "#d8576b"
             ],
             [
              0.6666666666666666,
              "#ed7953"
             ],
             [
              0.7777777777777778,
              "#fb9f3a"
             ],
             [
              0.8888888888888888,
              "#fdca26"
             ],
             [
              1,
              "#f0f921"
             ]
            ],
            "type": "heatmapgl"
           }
          ],
          "histogram": [
           {
            "marker": {
             "pattern": {
              "fillmode": "overlay",
              "size": 10,
              "solidity": 0.2
             }
            },
            "type": "histogram"
           }
          ],
          "histogram2d": [
           {
            "colorbar": {
             "outlinewidth": 0,
             "ticks": ""
            },
            "colorscale": [
             [
              0,
              "#0d0887"
             ],
             [
              0.1111111111111111,
              "#46039f"
             ],
             [
              0.2222222222222222,
              "#7201a8"
             ],
             [
              0.3333333333333333,
              "#9c179e"
             ],
             [
              0.4444444444444444,
              "#bd3786"
             ],
             [
              0.5555555555555556,
              "#d8576b"
             ],
             [
              0.6666666666666666,
              "#ed7953"
             ],
             [
              0.7777777777777778,
              "#fb9f3a"
             ],
             [
              0.8888888888888888,
              "#fdca26"
             ],
             [
              1,
              "#f0f921"
             ]
            ],
            "type": "histogram2d"
           }
          ],
          "histogram2dcontour": [
           {
            "colorbar": {
             "outlinewidth": 0,
             "ticks": ""
            },
            "colorscale": [
             [
              0,
              "#0d0887"
             ],
             [
              0.1111111111111111,
              "#46039f"
             ],
             [
              0.2222222222222222,
              "#7201a8"
             ],
             [
              0.3333333333333333,
              "#9c179e"
             ],
             [
              0.4444444444444444,
              "#bd3786"
             ],
             [
              0.5555555555555556,
              "#d8576b"
             ],
             [
              0.6666666666666666,
              "#ed7953"
             ],
             [
              0.7777777777777778,
              "#fb9f3a"
             ],
             [
              0.8888888888888888,
              "#fdca26"
             ],
             [
              1,
              "#f0f921"
             ]
            ],
            "type": "histogram2dcontour"
           }
          ],
          "mesh3d": [
           {
            "colorbar": {
             "outlinewidth": 0,
             "ticks": ""
            },
            "type": "mesh3d"
           }
          ],
          "parcoords": [
           {
            "line": {
             "colorbar": {
              "outlinewidth": 0,
              "ticks": ""
             }
            },
            "type": "parcoords"
           }
          ],
          "pie": [
           {
            "automargin": true,
            "type": "pie"
           }
          ],
          "scatter": [
           {
            "marker": {
             "colorbar": {
              "outlinewidth": 0,
              "ticks": ""
             }
            },
            "type": "scatter"
           }
          ],
          "scatter3d": [
           {
            "line": {
             "colorbar": {
              "outlinewidth": 0,
              "ticks": ""
             }
            },
            "marker": {
             "colorbar": {
              "outlinewidth": 0,
              "ticks": ""
             }
            },
            "type": "scatter3d"
           }
          ],
          "scattercarpet": [
           {
            "marker": {
             "colorbar": {
              "outlinewidth": 0,
              "ticks": ""
             }
            },
            "type": "scattercarpet"
           }
          ],
          "scattergeo": [
           {
            "marker": {
             "colorbar": {
              "outlinewidth": 0,
              "ticks": ""
             }
            },
            "type": "scattergeo"
           }
          ],
          "scattergl": [
           {
            "marker": {
             "colorbar": {
              "outlinewidth": 0,
              "ticks": ""
             }
            },
            "type": "scattergl"
           }
          ],
          "scattermapbox": [
           {
            "marker": {
             "colorbar": {
              "outlinewidth": 0,
              "ticks": ""
             }
            },
            "type": "scattermapbox"
           }
          ],
          "scatterpolar": [
           {
            "marker": {
             "colorbar": {
              "outlinewidth": 0,
              "ticks": ""
             }
            },
            "type": "scatterpolar"
           }
          ],
          "scatterpolargl": [
           {
            "marker": {
             "colorbar": {
              "outlinewidth": 0,
              "ticks": ""
             }
            },
            "type": "scatterpolargl"
           }
          ],
          "scatterternary": [
           {
            "marker": {
             "colorbar": {
              "outlinewidth": 0,
              "ticks": ""
             }
            },
            "type": "scatterternary"
           }
          ],
          "surface": [
           {
            "colorbar": {
             "outlinewidth": 0,
             "ticks": ""
            },
            "colorscale": [
             [
              0,
              "#0d0887"
             ],
             [
              0.1111111111111111,
              "#46039f"
             ],
             [
              0.2222222222222222,
              "#7201a8"
             ],
             [
              0.3333333333333333,
              "#9c179e"
             ],
             [
              0.4444444444444444,
              "#bd3786"
             ],
             [
              0.5555555555555556,
              "#d8576b"
             ],
             [
              0.6666666666666666,
              "#ed7953"
             ],
             [
              0.7777777777777778,
              "#fb9f3a"
             ],
             [
              0.8888888888888888,
              "#fdca26"
             ],
             [
              1,
              "#f0f921"
             ]
            ],
            "type": "surface"
           }
          ],
          "table": [
           {
            "cells": {
             "fill": {
              "color": "#EBF0F8"
             },
             "line": {
              "color": "white"
             }
            },
            "header": {
             "fill": {
              "color": "#C8D4E3"
             },
             "line": {
              "color": "white"
             }
            },
            "type": "table"
           }
          ]
         },
         "layout": {
          "annotationdefaults": {
           "arrowcolor": "#2a3f5f",
           "arrowhead": 0,
           "arrowwidth": 1
          },
          "autotypenumbers": "strict",
          "coloraxis": {
           "colorbar": {
            "outlinewidth": 0,
            "ticks": ""
           }
          },
          "colorscale": {
           "diverging": [
            [
             0,
             "#8e0152"
            ],
            [
             0.1,
             "#c51b7d"
            ],
            [
             0.2,
             "#de77ae"
            ],
            [
             0.3,
             "#f1b6da"
            ],
            [
             0.4,
             "#fde0ef"
            ],
            [
             0.5,
             "#f7f7f7"
            ],
            [
             0.6,
             "#e6f5d0"
            ],
            [
             0.7,
             "#b8e186"
            ],
            [
             0.8,
             "#7fbc41"
            ],
            [
             0.9,
             "#4d9221"
            ],
            [
             1,
             "#276419"
            ]
           ],
           "sequential": [
            [
             0,
             "#0d0887"
            ],
            [
             0.1111111111111111,
             "#46039f"
            ],
            [
             0.2222222222222222,
             "#7201a8"
            ],
            [
             0.3333333333333333,
             "#9c179e"
            ],
            [
             0.4444444444444444,
             "#bd3786"
            ],
            [
             0.5555555555555556,
             "#d8576b"
            ],
            [
             0.6666666666666666,
             "#ed7953"
            ],
            [
             0.7777777777777778,
             "#fb9f3a"
            ],
            [
             0.8888888888888888,
             "#fdca26"
            ],
            [
             1,
             "#f0f921"
            ]
           ],
           "sequentialminus": [
            [
             0,
             "#0d0887"
            ],
            [
             0.1111111111111111,
             "#46039f"
            ],
            [
             0.2222222222222222,
             "#7201a8"
            ],
            [
             0.3333333333333333,
             "#9c179e"
            ],
            [
             0.4444444444444444,
             "#bd3786"
            ],
            [
             0.5555555555555556,
             "#d8576b"
            ],
            [
             0.6666666666666666,
             "#ed7953"
            ],
            [
             0.7777777777777778,
             "#fb9f3a"
            ],
            [
             0.8888888888888888,
             "#fdca26"
            ],
            [
             1,
             "#f0f921"
            ]
           ]
          },
          "colorway": [
           "#636efa",
           "#EF553B",
           "#00cc96",
           "#ab63fa",
           "#FFA15A",
           "#19d3f3",
           "#FF6692",
           "#B6E880",
           "#FF97FF",
           "#FECB52"
          ],
          "font": {
           "color": "#2a3f5f"
          },
          "geo": {
           "bgcolor": "white",
           "lakecolor": "white",
           "landcolor": "#E5ECF6",
           "showlakes": true,
           "showland": true,
           "subunitcolor": "white"
          },
          "hoverlabel": {
           "align": "left"
          },
          "hovermode": "closest",
          "mapbox": {
           "style": "light"
          },
          "paper_bgcolor": "white",
          "plot_bgcolor": "#E5ECF6",
          "polar": {
           "angularaxis": {
            "gridcolor": "white",
            "linecolor": "white",
            "ticks": ""
           },
           "bgcolor": "#E5ECF6",
           "radialaxis": {
            "gridcolor": "white",
            "linecolor": "white",
            "ticks": ""
           }
          },
          "scene": {
           "xaxis": {
            "backgroundcolor": "#E5ECF6",
            "gridcolor": "white",
            "gridwidth": 2,
            "linecolor": "white",
            "showbackground": true,
            "ticks": "",
            "zerolinecolor": "white"
           },
           "yaxis": {
            "backgroundcolor": "#E5ECF6",
            "gridcolor": "white",
            "gridwidth": 2,
            "linecolor": "white",
            "showbackground": true,
            "ticks": "",
            "zerolinecolor": "white"
           },
           "zaxis": {
            "backgroundcolor": "#E5ECF6",
            "gridcolor": "white",
            "gridwidth": 2,
            "linecolor": "white",
            "showbackground": true,
            "ticks": "",
            "zerolinecolor": "white"
           }
          },
          "shapedefaults": {
           "line": {
            "color": "#2a3f5f"
           }
          },
          "ternary": {
           "aaxis": {
            "gridcolor": "white",
            "linecolor": "white",
            "ticks": ""
           },
           "baxis": {
            "gridcolor": "white",
            "linecolor": "white",
            "ticks": ""
           },
           "bgcolor": "#E5ECF6",
           "caxis": {
            "gridcolor": "white",
            "linecolor": "white",
            "ticks": ""
           }
          },
          "title": {
           "x": 0.05
          },
          "xaxis": {
           "automargin": true,
           "gridcolor": "white",
           "linecolor": "white",
           "ticks": "",
           "title": {
            "standoff": 15
           },
           "zerolinecolor": "white",
           "zerolinewidth": 2
          },
          "yaxis": {
           "automargin": true,
           "gridcolor": "white",
           "linecolor": "white",
           "ticks": "",
           "title": {
            "standoff": 15
           },
           "zerolinecolor": "white",
           "zerolinewidth": 2
          }
         }
        },
        "title": {
         "text": "CONCLUSIONES GRÁFICAS"
        },
        "width": 1050,
        "xaxis": {
         "anchor": "y",
         "domain": [
          0,
          0.45
         ]
        },
        "xaxis2": {
         "anchor": "y2",
         "domain": [
          0.55,
          1
         ]
        },
        "xaxis3": {
         "anchor": "y3",
         "domain": [
          0,
          0.45
         ]
        },
        "xaxis4": {
         "anchor": "y4",
         "domain": [
          0.55,
          1
         ]
        },
        "yaxis": {
         "anchor": "x",
         "domain": [
          0.625,
          1
         ]
        },
        "yaxis2": {
         "anchor": "x2",
         "domain": [
          0.625,
          1
         ]
        },
        "yaxis3": {
         "anchor": "x3",
         "domain": [
          0,
          0.375
         ]
        },
        "yaxis4": {
         "anchor": "x4",
         "domain": [
          0,
          0.375
         ]
        }
       }
      },
      "text/html": [
       "<div>                            <div id=\"7962bfce-8da5-4c69-917c-b3c123c1170b\" class=\"plotly-graph-div\" style=\"height:1000px; width:1050px;\"></div>            <script type=\"text/javascript\">                require([\"plotly\"], function(Plotly) {                    window.PLOTLYENV=window.PLOTLYENV || {};                                    if (document.getElementById(\"7962bfce-8da5-4c69-917c-b3c123c1170b\")) {                    Plotly.newPlot(                        \"7962bfce-8da5-4c69-917c-b3c123c1170b\",                        [{\"name\":\"Old_Data\",\"type\":\"bar\",\"x\":[\"USA\",\"Germany\",\"China\",\"UK\",\"India\",\"Rusia\"],\"xaxis\":\"x\",\"y\":[6.344340785305021,7.677910461425466,4.626096996508625,9.121407796223869,21.990156037548797,-7.352788423181094],\"yaxis\":\"y\"},{\"name\":\"Prediction_Data\",\"type\":\"bar\",\"x\":[\"USA\",\"Germany\",\"China\",\"UK\",\"India\",\"Rusia\"],\"xaxis\":\"x\",\"y\":[7.4832890765036115,8.535084751675322,5.728653707002698,9.6682444545195,22.846837821411604,-5.9493774143289],\"yaxis\":\"y\"},{\"name\":\"Old_Data\",\"type\":\"scatter\",\"x\":[\"USA\",\"Germany\",\"China\",\"UK\",\"India\",\"Rusia\"],\"xaxis\":\"x2\",\"y\":[6.344340785305021,7.677910461425466,4.626096996508625,9.121407796223869,21.990156037548797,-7.352788423181094],\"yaxis\":\"y2\"},{\"name\":\"Prediction_Data\",\"type\":\"scatter\",\"x\":[\"USA\",\"Germany\",\"China\",\"UK\",\"India\",\"Rusia\"],\"xaxis\":\"x2\",\"y\":[7.4832890765036115,8.535084751675322,5.728653707002698,9.6682444545195,22.846837821411604,-5.9493774143289],\"yaxis\":\"y2\"},{\"name\":\"Old_Data\",\"type\":\"bar\",\"x\":[\"USA\",\"Germany\",\"China\",\"UK\",\"India\",\"Rusia\"],\"xaxis\":\"x3\",\"y\":[841.9126208374352,929.59863749187,808.9551530067372,988.8454972331014,1018.5822874768348,497.0240783346306],\"yaxis\":\"y3\"},{\"name\":\"Prediction_Data\",\"type\":\"bar\",\"x\":[\"USA\",\"Germany\",\"China\",\"UK\",\"India\",\"Rusia\"],\"xaxis\":\"x3\",\"y\":[859.0009354875868,949.684789712075,817.8299024484577,1005.9598574392044,1018.861216958656,520.4752874712846],\"yaxis\":\"y3\"},{\"name\":\"Old_Data\",\"type\":\"scatter\",\"x\":[\"USA\",\"Germany\",\"China\",\"UK\",\"India\",\"Rusia\"],\"xaxis\":\"x4\",\"y\":[841.9126208374352,929.59863749187,808.9551530067372,988.8454972331014,1018.5822874768348,497.0240783346306],\"yaxis\":\"y4\"},{\"name\":\"Prediction_Data\",\"type\":\"scatter\",\"x\":[\"USA\",\"Germany\",\"China\",\"UK\",\"India\",\"Rusia\"],\"xaxis\":\"x4\",\"y\":[859.0009354875868,949.684789712075,817.8299024484577,1005.9598574392044,1018.861216958656,520.4752874712846],\"yaxis\":\"y4\"}],                        {\"annotations\":[{\"font\":{\"size\":16},\"showarrow\":false,\"text\":\"Old temperature vs Prediction temperature\",\"x\":0.225,\"xanchor\":\"center\",\"xref\":\"paper\",\"y\":1.0,\"yanchor\":\"bottom\",\"yref\":\"paper\"},{\"font\":{\"size\":16},\"showarrow\":false,\"text\":\"Old temperature vs Prediction temperature\",\"x\":0.775,\"xanchor\":\"center\",\"xref\":\"paper\",\"y\":1.0,\"yanchor\":\"bottom\",\"yref\":\"paper\"},{\"font\":{\"size\":16},\"showarrow\":false,\"text\":\"Old precipitation vs Prediction precipitation\",\"x\":0.225,\"xanchor\":\"center\",\"xref\":\"paper\",\"y\":0.375,\"yanchor\":\"bottom\",\"yref\":\"paper\"},{\"font\":{\"size\":16},\"showarrow\":false,\"text\":\"Old precipittion vs Prediction precipitation\",\"x\":0.775,\"xanchor\":\"center\",\"xref\":\"paper\",\"y\":0.375,\"yanchor\":\"bottom\",\"yref\":\"paper\"}],\"height\":1000,\"template\":{\"data\":{\"bar\":[{\"error_x\":{\"color\":\"#2a3f5f\"},\"error_y\":{\"color\":\"#2a3f5f\"},\"marker\":{\"line\":{\"color\":\"#E5ECF6\",\"width\":0.5},\"pattern\":{\"fillmode\":\"overlay\",\"size\":10,\"solidity\":0.2}},\"type\":\"bar\"}],\"barpolar\":[{\"marker\":{\"line\":{\"color\":\"#E5ECF6\",\"width\":0.5},\"pattern\":{\"fillmode\":\"overlay\",\"size\":10,\"solidity\":0.2}},\"type\":\"barpolar\"}],\"carpet\":[{\"aaxis\":{\"endlinecolor\":\"#2a3f5f\",\"gridcolor\":\"white\",\"linecolor\":\"white\",\"minorgridcolor\":\"white\",\"startlinecolor\":\"#2a3f5f\"},\"baxis\":{\"endlinecolor\":\"#2a3f5f\",\"gridcolor\":\"white\",\"linecolor\":\"white\",\"minorgridcolor\":\"white\",\"startlinecolor\":\"#2a3f5f\"},\"type\":\"carpet\"}],\"choropleth\":[{\"colorbar\":{\"outlinewidth\":0,\"ticks\":\"\"},\"type\":\"choropleth\"}],\"contour\":[{\"colorbar\":{\"outlinewidth\":0,\"ticks\":\"\"},\"colorscale\":[[0.0,\"#0d0887\"],[0.1111111111111111,\"#46039f\"],[0.2222222222222222,\"#7201a8\"],[0.3333333333333333,\"#9c179e\"],[0.4444444444444444,\"#bd3786\"],[0.5555555555555556,\"#d8576b\"],[0.6666666666666666,\"#ed7953\"],[0.7777777777777778,\"#fb9f3a\"],[0.8888888888888888,\"#fdca26\"],[1.0,\"#f0f921\"]],\"type\":\"contour\"}],\"contourcarpet\":[{\"colorbar\":{\"outlinewidth\":0,\"ticks\":\"\"},\"type\":\"contourcarpet\"}],\"heatmap\":[{\"colorbar\":{\"outlinewidth\":0,\"ticks\":\"\"},\"colorscale\":[[0.0,\"#0d0887\"],[0.1111111111111111,\"#46039f\"],[0.2222222222222222,\"#7201a8\"],[0.3333333333333333,\"#9c179e\"],[0.4444444444444444,\"#bd3786\"],[0.5555555555555556,\"#d8576b\"],[0.6666666666666666,\"#ed7953\"],[0.7777777777777778,\"#fb9f3a\"],[0.8888888888888888,\"#fdca26\"],[1.0,\"#f0f921\"]],\"type\":\"heatmap\"}],\"heatmapgl\":[{\"colorbar\":{\"outlinewidth\":0,\"ticks\":\"\"},\"colorscale\":[[0.0,\"#0d0887\"],[0.1111111111111111,\"#46039f\"],[0.2222222222222222,\"#7201a8\"],[0.3333333333333333,\"#9c179e\"],[0.4444444444444444,\"#bd3786\"],[0.5555555555555556,\"#d8576b\"],[0.6666666666666666,\"#ed7953\"],[0.7777777777777778,\"#fb9f3a\"],[0.8888888888888888,\"#fdca26\"],[1.0,\"#f0f921\"]],\"type\":\"heatmapgl\"}],\"histogram\":[{\"marker\":{\"pattern\":{\"fillmode\":\"overlay\",\"size\":10,\"solidity\":0.2}},\"type\":\"histogram\"}],\"histogram2d\":[{\"colorbar\":{\"outlinewidth\":0,\"ticks\":\"\"},\"colorscale\":[[0.0,\"#0d0887\"],[0.1111111111111111,\"#46039f\"],[0.2222222222222222,\"#7201a8\"],[0.3333333333333333,\"#9c179e\"],[0.4444444444444444,\"#bd3786\"],[0.5555555555555556,\"#d8576b\"],[0.6666666666666666,\"#ed7953\"],[0.7777777777777778,\"#fb9f3a\"],[0.8888888888888888,\"#fdca26\"],[1.0,\"#f0f921\"]],\"type\":\"histogram2d\"}],\"histogram2dcontour\":[{\"colorbar\":{\"outlinewidth\":0,\"ticks\":\"\"},\"colorscale\":[[0.0,\"#0d0887\"],[0.1111111111111111,\"#46039f\"],[0.2222222222222222,\"#7201a8\"],[0.3333333333333333,\"#9c179e\"],[0.4444444444444444,\"#bd3786\"],[0.5555555555555556,\"#d8576b\"],[0.6666666666666666,\"#ed7953\"],[0.7777777777777778,\"#fb9f3a\"],[0.8888888888888888,\"#fdca26\"],[1.0,\"#f0f921\"]],\"type\":\"histogram2dcontour\"}],\"mesh3d\":[{\"colorbar\":{\"outlinewidth\":0,\"ticks\":\"\"},\"type\":\"mesh3d\"}],\"parcoords\":[{\"line\":{\"colorbar\":{\"outlinewidth\":0,\"ticks\":\"\"}},\"type\":\"parcoords\"}],\"pie\":[{\"automargin\":true,\"type\":\"pie\"}],\"scatter\":[{\"marker\":{\"colorbar\":{\"outlinewidth\":0,\"ticks\":\"\"}},\"type\":\"scatter\"}],\"scatter3d\":[{\"line\":{\"colorbar\":{\"outlinewidth\":0,\"ticks\":\"\"}},\"marker\":{\"colorbar\":{\"outlinewidth\":0,\"ticks\":\"\"}},\"type\":\"scatter3d\"}],\"scattercarpet\":[{\"marker\":{\"colorbar\":{\"outlinewidth\":0,\"ticks\":\"\"}},\"type\":\"scattercarpet\"}],\"scattergeo\":[{\"marker\":{\"colorbar\":{\"outlinewidth\":0,\"ticks\":\"\"}},\"type\":\"scattergeo\"}],\"scattergl\":[{\"marker\":{\"colorbar\":{\"outlinewidth\":0,\"ticks\":\"\"}},\"type\":\"scattergl\"}],\"scattermapbox\":[{\"marker\":{\"colorbar\":{\"outlinewidth\":0,\"ticks\":\"\"}},\"type\":\"scattermapbox\"}],\"scatterpolar\":[{\"marker\":{\"colorbar\":{\"outlinewidth\":0,\"ticks\":\"\"}},\"type\":\"scatterpolar\"}],\"scatterpolargl\":[{\"marker\":{\"colorbar\":{\"outlinewidth\":0,\"ticks\":\"\"}},\"type\":\"scatterpolargl\"}],\"scatterternary\":[{\"marker\":{\"colorbar\":{\"outlinewidth\":0,\"ticks\":\"\"}},\"type\":\"scatterternary\"}],\"surface\":[{\"colorbar\":{\"outlinewidth\":0,\"ticks\":\"\"},\"colorscale\":[[0.0,\"#0d0887\"],[0.1111111111111111,\"#46039f\"],[0.2222222222222222,\"#7201a8\"],[0.3333333333333333,\"#9c179e\"],[0.4444444444444444,\"#bd3786\"],[0.5555555555555556,\"#d8576b\"],[0.6666666666666666,\"#ed7953\"],[0.7777777777777778,\"#fb9f3a\"],[0.8888888888888888,\"#fdca26\"],[1.0,\"#f0f921\"]],\"type\":\"surface\"}],\"table\":[{\"cells\":{\"fill\":{\"color\":\"#EBF0F8\"},\"line\":{\"color\":\"white\"}},\"header\":{\"fill\":{\"color\":\"#C8D4E3\"},\"line\":{\"color\":\"white\"}},\"type\":\"table\"}]},\"layout\":{\"annotationdefaults\":{\"arrowcolor\":\"#2a3f5f\",\"arrowhead\":0,\"arrowwidth\":1},\"autotypenumbers\":\"strict\",\"coloraxis\":{\"colorbar\":{\"outlinewidth\":0,\"ticks\":\"\"}},\"colorscale\":{\"diverging\":[[0,\"#8e0152\"],[0.1,\"#c51b7d\"],[0.2,\"#de77ae\"],[0.3,\"#f1b6da\"],[0.4,\"#fde0ef\"],[0.5,\"#f7f7f7\"],[0.6,\"#e6f5d0\"],[0.7,\"#b8e186\"],[0.8,\"#7fbc41\"],[0.9,\"#4d9221\"],[1,\"#276419\"]],\"sequential\":[[0.0,\"#0d0887\"],[0.1111111111111111,\"#46039f\"],[0.2222222222222222,\"#7201a8\"],[0.3333333333333333,\"#9c179e\"],[0.4444444444444444,\"#bd3786\"],[0.5555555555555556,\"#d8576b\"],[0.6666666666666666,\"#ed7953\"],[0.7777777777777778,\"#fb9f3a\"],[0.8888888888888888,\"#fdca26\"],[1.0,\"#f0f921\"]],\"sequentialminus\":[[0.0,\"#0d0887\"],[0.1111111111111111,\"#46039f\"],[0.2222222222222222,\"#7201a8\"],[0.3333333333333333,\"#9c179e\"],[0.4444444444444444,\"#bd3786\"],[0.5555555555555556,\"#d8576b\"],[0.6666666666666666,\"#ed7953\"],[0.7777777777777778,\"#fb9f3a\"],[0.8888888888888888,\"#fdca26\"],[1.0,\"#f0f921\"]]},\"colorway\":[\"#636efa\",\"#EF553B\",\"#00cc96\",\"#ab63fa\",\"#FFA15A\",\"#19d3f3\",\"#FF6692\",\"#B6E880\",\"#FF97FF\",\"#FECB52\"],\"font\":{\"color\":\"#2a3f5f\"},\"geo\":{\"bgcolor\":\"white\",\"lakecolor\":\"white\",\"landcolor\":\"#E5ECF6\",\"showlakes\":true,\"showland\":true,\"subunitcolor\":\"white\"},\"hoverlabel\":{\"align\":\"left\"},\"hovermode\":\"closest\",\"mapbox\":{\"style\":\"light\"},\"paper_bgcolor\":\"white\",\"plot_bgcolor\":\"#E5ECF6\",\"polar\":{\"angularaxis\":{\"gridcolor\":\"white\",\"linecolor\":\"white\",\"ticks\":\"\"},\"bgcolor\":\"#E5ECF6\",\"radialaxis\":{\"gridcolor\":\"white\",\"linecolor\":\"white\",\"ticks\":\"\"}},\"scene\":{\"xaxis\":{\"backgroundcolor\":\"#E5ECF6\",\"gridcolor\":\"white\",\"gridwidth\":2,\"linecolor\":\"white\",\"showbackground\":true,\"ticks\":\"\",\"zerolinecolor\":\"white\"},\"yaxis\":{\"backgroundcolor\":\"#E5ECF6\",\"gridcolor\":\"white\",\"gridwidth\":2,\"linecolor\":\"white\",\"showbackground\":true,\"ticks\":\"\",\"zerolinecolor\":\"white\"},\"zaxis\":{\"backgroundcolor\":\"#E5ECF6\",\"gridcolor\":\"white\",\"gridwidth\":2,\"linecolor\":\"white\",\"showbackground\":true,\"ticks\":\"\",\"zerolinecolor\":\"white\"}},\"shapedefaults\":{\"line\":{\"color\":\"#2a3f5f\"}},\"ternary\":{\"aaxis\":{\"gridcolor\":\"white\",\"linecolor\":\"white\",\"ticks\":\"\"},\"baxis\":{\"gridcolor\":\"white\",\"linecolor\":\"white\",\"ticks\":\"\"},\"bgcolor\":\"#E5ECF6\",\"caxis\":{\"gridcolor\":\"white\",\"linecolor\":\"white\",\"ticks\":\"\"}},\"title\":{\"x\":0.05},\"xaxis\":{\"automargin\":true,\"gridcolor\":\"white\",\"linecolor\":\"white\",\"ticks\":\"\",\"title\":{\"standoff\":15},\"zerolinecolor\":\"white\",\"zerolinewidth\":2},\"yaxis\":{\"automargin\":true,\"gridcolor\":\"white\",\"linecolor\":\"white\",\"ticks\":\"\",\"title\":{\"standoff\":15},\"zerolinecolor\":\"white\",\"zerolinewidth\":2}}},\"title\":{\"text\":\"CONCLUSIONES GR\\u00c1FICAS\"},\"width\":1050,\"xaxis\":{\"anchor\":\"y\",\"domain\":[0.0,0.45]},\"xaxis2\":{\"anchor\":\"y2\",\"domain\":[0.55,1.0]},\"xaxis3\":{\"anchor\":\"y3\",\"domain\":[0.0,0.45]},\"xaxis4\":{\"anchor\":\"y4\",\"domain\":[0.55,1.0]},\"yaxis\":{\"anchor\":\"x\",\"domain\":[0.625,1.0]},\"yaxis2\":{\"anchor\":\"x2\",\"domain\":[0.625,1.0]},\"yaxis3\":{\"anchor\":\"x3\",\"domain\":[0.0,0.375]},\"yaxis4\":{\"anchor\":\"x4\",\"domain\":[0.0,0.375]}},                        {\"responsive\": true}                    ).then(function(){\n",
       "                            \n",
       "var gd = document.getElementById('7962bfce-8da5-4c69-917c-b3c123c1170b');\n",
       "var x = new MutationObserver(function (mutations, observer) {{\n",
       "        var display = window.getComputedStyle(gd).display;\n",
       "        if (!display || display === 'none') {{\n",
       "            console.log([gd, 'removed!']);\n",
       "            Plotly.purge(gd);\n",
       "            observer.disconnect();\n",
       "        }}\n",
       "}});\n",
       "\n",
       "// Listen for the removal of the full notebook cells\n",
       "var notebookContainer = gd.closest('#notebook-container');\n",
       "if (notebookContainer) {{\n",
       "    x.observe(notebookContainer, {childList: true});\n",
       "}}\n",
       "\n",
       "// Listen for the clearing of the current output cell\n",
       "var outputEl = gd.closest('.output');\n",
       "if (outputEl) {{\n",
       "    x.observe(outputEl, {childList: true});\n",
       "}}\n",
       "\n",
       "                        })                };                });            </script>        </div>"
      ]
     },
     "metadata": {},
     "output_type": "display_data"
    }
   ],
   "source": [
    "fig = make_subplots(rows=2, cols=2, start_cell=\"top-left\",\n",
    "                   subplot_titles=('Old temperature vs Prediction temperature', 'Old temperature vs Prediction temperature',\n",
    "                                  'Old precipitation vs Prediction precipitation', 'Old precipittion vs Prediction precipitation'))\n",
    "\n",
    "country=list(df_oldtemp.Country.unique())\n",
    "\n",
    "fig.add_trace(go.Bar(name='Old_Data', x=df_oldtemp.Country, y=df_oldtemp.Annual_Data), row=1, col=1)\n",
    "fig.add_trace(go.Bar(name='Prediction_Data', x=df_oldtemp.Country, y=df_oldtemp.Pred_Data), row=1, col=1)\n",
    "\n",
    "fig.add_trace(go.Line(name='Old_Data', x=df_oldtemp.Country, y=df_oldtemp.Annual_Data), row=1, col=2)\n",
    "fig.add_trace(go.Line(name='Prediction_Data', x=df_oldtemp.Country, y=df_oldtemp.Pred_Data), row=1, col=2)\n",
    "\n",
    "fig.add_trace(go.Bar(name='Old_Data', x=df_oldprec.Country, y=df_oldprec.Annual_Data), row=2, col=1)\n",
    "fig.add_trace(go.Bar(name='Prediction_Data', x=df_oldprec.Country, y=df_oldprec.Pred_Data), row=2, col=1)\n",
    "\n",
    "fig.add_trace(go.Line(name='Old_Data', x=df_oldprec.Country, y=df_oldprec.Annual_Data), row=2, col=2)\n",
    "fig.add_trace(go.Line(name='Prediction_Data', x=df_oldprec.Country, y=df_oldprec.Pred_Data), row=2, col=2)\n",
    "\n",
    "                              \n",
    "\n",
    "\n",
    "fig.update_layout(height=1000, width=1050, title_text=\"CONCLUSIONES GRÁFICAS\")\n",
    "fig.show()\n"
   ]
  },
  {
   "cell_type": "markdown",
   "id": "5eba1048",
   "metadata": {},
   "source": [
    "## STORYTELLING"
   ]
  },
  {
   "cell_type": "markdown",
   "id": "63331f48",
   "metadata": {},
   "source": [
    "### Muy bonito pero, ¿qué vemos aquí?"
   ]
  },
  {
   "cell_type": "markdown",
   "id": "b1209dc4",
   "metadata": {},
   "source": [
    "En esta figura de cuatro gráficos (subplot), tenemos realmente dos cosas por las que preocuparnos.\n",
    "- Los dos primeros gráficos hablan de lo mismo, pero con distinta presentación para un mayor entendimiento (o para los que prefieran barras o líneas). Lo que se está comprando son las temperaturas de nuestros 6 países de estudio, de los años desde 1990 hasta el 1999 en comparación con las predicciones desde el 2020 hasta el 2039. (se ha hecho una media de cada intervalo, para poder ser representados de uma manera más explicativa). Lo que se ve es una tendencia de una elevación de las temperaturas, en algunas ocasiones de más de 1 grado de diferencia entre las medias de estos dos intervalos. \n",
    "- Los dos gráficos de abajo tienen la misma lógica gráfica que los de arriba (se llega a la misma conclusión observando cualquiera de los dos, el estudio se puede hacer al gusto). Eneste caso estamos comparando cómo han y van a cambiar las precipitaciones en el mismo intervalo de tiempo que el estudio de la temperatura. En este estudio la diferenceia no es tan notoria, no hay tanta variación de unos años a otros, pese que aún así tiende a la alza ¿por que?\n",
    "    - No está directamente relacionado el hecho de que haya un aumento de emisión de gases de efecto invernadero con el aumento de las lluvias. Lo que ocurre es que sin embargo, como se ha visto en el gráfico anterior, la tempreatura si que aumenta directamente con el aumento de la emisión de estos gases, y el hecho de que la temperatura eumente, genera un aumento en la concentración de humedad en la atmósfera, lo que provoca, no aumento en la cantidad de lluvias, pero sí en su fuerza, en la cantidad de litros/metros cuadrados. (esto nos cuadra, los datos no son solo de eventos de lluvia, cuantitativamente, si no, nos dan el agua total por lluvias, es decir que puede haber o más eventos o eventos más fuertes.)\n",
    "    - Y es por este motivo por el que cada vez han más inundaciones, eventos mucho más fuertes que hace 20 años en zonas donde no están preparados a recibir esas lluvias tan fuertes."
   ]
  },
  {
   "cell_type": "code",
   "execution_count": null,
   "id": "2568a6da",
   "metadata": {},
   "outputs": [],
   "source": []
  }
 ],
 "metadata": {
  "kernelspec": {
   "display_name": "ironhack2",
   "language": "python",
   "name": "ironhack2"
  },
  "language_info": {
   "codemirror_mode": {
    "name": "ipython",
    "version": 3
   },
   "file_extension": ".py",
   "mimetype": "text/x-python",
   "name": "python",
   "nbconvert_exporter": "python",
   "pygments_lexer": "ipython3",
   "version": "3.8.11"
  }
 },
 "nbformat": 4,
 "nbformat_minor": 5
}
